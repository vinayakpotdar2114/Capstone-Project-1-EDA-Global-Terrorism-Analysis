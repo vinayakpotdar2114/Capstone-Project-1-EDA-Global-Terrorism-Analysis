{
  "nbformat": 4,
  "nbformat_minor": 0,
  "metadata": {
    "kernelspec": {
      "display_name": "Python 3",
      "language": "python",
      "name": "python3"
    },
    "language_info": {
      "codemirror_mode": {
        "name": "ipython",
        "version": 3
      },
      "file_extension": ".py",
      "mimetype": "text/x-python",
      "name": "python",
      "nbconvert_exporter": "python",
      "pygments_lexer": "ipython3",
      "version": "3.6.6"
    },
    "colab": {
      "name": "Capstone-Project-1-EDA-Global-Terrorism-Analysis.ipynb",
      "provenance": [],
      "collapsed_sections": [],
      "include_colab_link": true
    }
  },
  "cells": [
    {
      "cell_type": "markdown",
      "metadata": {
        "id": "view-in-github",
        "colab_type": "text"
      },
      "source": [
        "<a href=\"https://colab.research.google.com/github/vinayakpotdar2114/Capstone-Project-1-EDA-Global-Terrorism-Analysis/blob/main/Capstone_Project_1_EDA_Global_Terrorism_Analysis.ipynb\" target=\"_parent\"><img src=\"https://colab.research.google.com/assets/colab-badge.svg\" alt=\"Open In Colab\"/></a>"
      ]
    },
    {
      "cell_type": "markdown",
      "source": [
        "# **The Dataset:**\n",
        "\n",
        "# **Global Terrorism Dataset**\n",
        "\n",
        "The Global Terrorism Database (GTD) is an open-source database including information on terrorist attacks around the world from 1970 through 2017. The GTD includes systematic data on domestic as well as international terrorist incidents that have occurred during this time period and now includes more than 180,000 attacks. The database is maintained by researchers at the National Consortium for the Study of Terrorism and Responses to Terrorism (START), headquartered at the University of Maryland.\n",
        "\n",
        "\n",
        "# **Problem Statement:**\n",
        "\n",
        "**Explore and analyze the data to discover key findings pertaining to terrorist activities.**"
      ],
      "metadata": {
        "id": "8m9Ry8Flo9K4"
      }
    },
    {
      "cell_type": "markdown",
      "source": [
        "# **The Structure of the Notebook:**\n",
        "\n",
        "\n",
        "\n",
        "**1.**   **Required Library Imports**\n",
        "\n",
        "**2.**   **Data Overview and Wrangling**\n",
        "  *   Figuring out necessary columns.\n",
        "\n",
        "**3. Null Value Analysis:**\n",
        "  *   Understanding and analyzing if the null values represent a certain pattern\n",
        "\n",
        "**4.** **Null Value Treatment:**\n",
        "  *   Based on the Null Value Analysis, taking appropriate actions for the null values.\n",
        "\n",
        "**5.** **Overall Exploration of the World Data**\n",
        "\n",
        "**6.** **Utility/ Reusable function creation for deeper analysis for each country:**\n",
        "  *   ***get_country_report(country)*** :: The function will give specific analysis and prepare charts for the countries passed as an argument in the utility function.\n"
      ],
      "metadata": {
        "id": "IbUOGvIjqFyn"
      }
    },
    {
      "cell_type": "markdown",
      "source": [
        "# 1.Required Library Imports and Data Drive Mounting\n"
      ],
      "metadata": {
        "id": "LWXWs8FRyS1M"
      }
    },
    {
      "cell_type": "code",
      "source": [
        "# Importing necessary libraries for plotting and data wrangling\n",
        "import numpy as np\n",
        "import pandas as pd\n",
        "import matplotlib.pyplot as plt\n",
        "import seaborn as sns"
      ],
      "metadata": {
        "id": "PjAV3vm-ykbA"
      },
      "execution_count": 1,
      "outputs": []
    },
    {
      "cell_type": "code",
      "source": [
        "# Mounting the drive consisting the data.\n",
        "from google.colab import drive\n",
        "drive.mount('/content/drive')"
      ],
      "metadata": {
        "colab": {
          "base_uri": "https://localhost:8080/"
        },
        "id": "2YwgcopLy23F",
        "outputId": "4a70ccf2-9444-4adb-de65-ef26f2d03981"
      },
      "execution_count": 2,
      "outputs": [
        {
          "output_type": "stream",
          "name": "stdout",
          "text": [
            "Mounted at /content/drive\n"
          ]
        }
      ]
    },
    {
      "cell_type": "code",
      "source": [
        "# Loading the dataset to start working with it.\n",
        "data=pd.read_csv(r\"/content/drive/MyDrive/Colab Notebooks/CAPSTONE PROJECT 1 EDA/Dataset/Global Terrorism Data.csv\",encoding='latin1')"
      ],
      "metadata": {
        "colab": {
          "base_uri": "https://localhost:8080/"
        },
        "id": "Uous_4pzy-7U",
        "outputId": "b5a2daad-ecb5-4242-b4a0-8525656bb1e2"
      },
      "execution_count": 5,
      "outputs": [
        {
          "output_type": "stream",
          "name": "stderr",
          "text": [
            "/usr/local/lib/python3.7/dist-packages/IPython/core/interactiveshell.py:2718: DtypeWarning: Columns (4,6,31,33,61,62,63,76,79,90,92,94,96,114,115,121) have mixed types.Specify dtype option on import or set low_memory=False.\n",
            "  interactivity=interactivity, compiler=compiler, result=result)\n"
          ]
        }
      ]
    },
    {
      "cell_type": "code",
      "source": [
        ""
      ],
      "metadata": {
        "id": "rYplLu7b00WB"
      },
      "execution_count": null,
      "outputs": []
    }
  ]
}